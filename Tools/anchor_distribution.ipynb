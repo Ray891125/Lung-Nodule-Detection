{
 "cells": [
  {
   "cell_type": "code",
   "execution_count": 2,
   "metadata": {},
   "outputs": [],
   "source": [
    "import matplotlib.pyplot as plt\n",
    "import numpy as np\n",
    "import my_csvTools  \n",
    "from mpl_toolkits.mplot3d import Axes3D"
   ]
  },
  {
   "cell_type": "markdown",
   "metadata": {},
   "source": [
    "# 1. read 3D G.T.box from CSV\n",
    "\n"
   ]
  },
  {
   "cell_type": "code",
   "execution_count": 7,
   "metadata": {},
   "outputs": [
    {
     "name": "stdout",
     "output_type": "stream",
     "text": [
      "[[16. 15.  4.]\n",
      " [ 5.  5.  4.]\n",
      " [ 5.  7.  4.]\n",
      " ...\n",
      " [ 4.  4.  4.]\n",
      " [ 6.  7.  6.]\n",
      " [ 5.  7.  4.]]\n"
     ]
    }
   ],
   "source": [
    "gt_dir = r\"C:\\Users\\BB\\Desktop\\training_data\\annotation_validate.csv\"\n",
    "gts = my_csvTools.readCSV(gt_dir)\n",
    "gt_size = np.array([gt[4:7] for gt in gts[1:]]).astype(float)\n",
    "print(gt_size)"
   ]
  },
  {
   "cell_type": "markdown",
   "metadata": {},
   "source": [
    "# 2. Calculate the distribution of anchor scale"
   ]
  },
  {
   "cell_type": "code",
   "execution_count": 8,
   "metadata": {},
   "outputs": [
    {
     "name": "stdout",
     "output_type": "stream",
     "text": [
      "[[1.         0.9375     0.25      ]\n",
      " [1.         1.         0.8       ]\n",
      " [1.         1.4        0.8       ]\n",
      " ...\n",
      " [1.         1.         1.        ]\n",
      " [1.         1.16666667 1.        ]\n",
      " [1.         1.4        0.8       ]]\n"
     ]
    }
   ],
   "source": [
    "norm_gt_size=[]\n",
    "# [0.25,0.5,0.75,1,1.25,1.5,1.75,2]\n",
    "ratio_title = [0.25,0.5,0.75,1,1.25,1.5,1.75,2,2]\n",
    "h_diff_ratio=[[],[]]\n",
    "for gt in gt_size:\n",
    "    gt = gt/gt[0]\n",
    "    for i ,ratio in enumerate(ratio_title):\n",
    "        if gt[1] < (ratio[i]+ratio[i+1])/2:           \n",
    "            norm_gt_size.append(gt)\n",
    "            break\n",
    "    gt = gt/gt[0]\n",
    "    norm_gt_size.append(gt)\n",
    "\n",
    "norm_gt_size = np.array(norm_gt_size)\n",
    "print(norm_gt_size)\n",
    "# # 繪製散點圖\n",
    "# plt.scatter(h_data, d_data,s=10)\n",
    "# plt.xlabel('h')\n",
    "# plt.ylabel('d')\n",
    "# plt.title(' h vs d distribution')\n",
    "# plt.grid(True)\n",
    "# plt.show()"
   ]
  },
  {
   "cell_type": "code",
   "execution_count": 14,
   "metadata": {},
   "outputs": [
    {
     "ename": "AttributeError",
     "evalue": "'numpy.ndarray' object has no attribute 'append'",
     "output_type": "error",
     "traceback": [
      "\u001b[1;31m---------------------------------------------------------------------------\u001b[0m",
      "\u001b[1;31mAttributeError\u001b[0m                            Traceback (most recent call last)",
      "Cell \u001b[1;32mIn[14], line 2\u001b[0m\n\u001b[0;32m      1\u001b[0m h_diff_ratio \u001b[38;5;241m=\u001b[39m np\u001b[38;5;241m.\u001b[39mzeros((\u001b[38;5;241m2\u001b[39m, \u001b[38;5;241m0\u001b[39m))\n\u001b[1;32m----> 2\u001b[0m \u001b[43mh_diff_ratio\u001b[49m\u001b[38;5;241;43m.\u001b[39;49m\u001b[43mappend\u001b[49m(\u001b[38;5;241m1\u001b[39m)\n\u001b[0;32m      3\u001b[0m h_diff_ratio\u001b[38;5;241m.\u001b[39mappend(\u001b[38;5;241m2\u001b[39m)\n\u001b[0;32m      4\u001b[0m \u001b[38;5;28mprint\u001b[39m(h_diff_ratio)   \n",
      "\u001b[1;31mAttributeError\u001b[0m: 'numpy.ndarray' object has no attribute 'append'"
     ]
    }
   ],
   "source": [
    "h_diff_ratio = np.zeros((2, 0))\n",
    "h_diff_ratio.append(1)\n",
    "h_diff_ratio.append(2)\n",
    "print(h_diff_ratio)   "
   ]
  }
 ],
 "metadata": {
  "kernelspec": {
   "display_name": "CVDL_HW1",
   "language": "python",
   "name": "python3"
  },
  "language_info": {
   "codemirror_mode": {
    "name": "ipython",
    "version": 3
   },
   "file_extension": ".py",
   "mimetype": "text/x-python",
   "name": "python",
   "nbconvert_exporter": "python",
   "pygments_lexer": "ipython3",
   "version": "3.8.18"
  }
 },
 "nbformat": 4,
 "nbformat_minor": 2
}
