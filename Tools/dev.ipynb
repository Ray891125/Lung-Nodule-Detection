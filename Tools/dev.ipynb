{
 "cells": [
  {
   "cell_type": "code",
   "execution_count": 2,
   "metadata": {},
   "outputs": [],
   "source": [
    "import numpy as np\n",
    "import os\n",
    "import nrrd\n",
    "import matplotlib.pyplot as plt\n",
    "import json\n",
    "import Tools.my_csvTools as my_csvTools"
   ]
  },
  {
   "cell_type": "code",
   "execution_count": null,
   "metadata": {},
   "outputs": [],
   "source": [
    "data_dir = r\"C:\\Users\\BB\\Desktop\\training_data\\My_SAnet\\Data\\Bbox_crop\"\n",
    "GT_dir = r\"C:\\Users\\BB\\Desktop\\training_data\\My_SAnet\\Data\\Bbox_crop_anno\"\n",
    "Pred_dir = r\"C:\\Users\\BB\\Desktop\\training_data\\My_SAnet\\Data\\Bbox_crop_pred\"\n",
    "\n",
    "filename = \n",
    "pid = \n",
    "gt_list = \n",
    "pred_list = \n",
    "outpath = "
   ]
  },
  {
   "cell_type": "markdown",
   "metadata": {},
   "source": [
    "# draw box\n",
    "input : box info list (gt, FP, FN, TP)\n",
    "output: finished img\n",
    "\n"
   ]
  },
  {
   "cell_type": "markdown",
   "metadata": {},
   "source": [
    "## Read box info\n",
    "### Read GT\n",
    "### Read FN\n",
    "### Read Prediction\n",
    "\n",
    "Read info may need different function\n",
    "But, draw box should be defined as a gerenal one"
   ]
  },
  {
   "cell_type": "code",
   "execution_count": null,
   "metadata": {},
   "outputs": [],
   "source": [
    "# Read GT from json\n",
    "with open(os.path.join(GT_dir, '%s_nodule_count_crop.json' % (filename)), 'r') as f:\n",
    "                annota= json.load(f)\n",
    "                bboxes = annota['bboxes']\n",
    "# Read FN from csv: FN_0.1.csv\n",
    "# Read Pred from csv: submission_path.csv"
   ]
  },
  {
   "cell_type": "code",
   "execution_count": null,
   "metadata": {},
   "outputs": [],
   "source": [
    "\n",
    "#read GT \n",
    "with open(os.path.join(GT_dir, '%s_nodule_count_crop.json' % (filename)), 'r') as f:\n",
    "                annota= json.load(f)\n",
    "                bboxes = annota['bboxes']\n",
    "        #arr, options = nrrd.read(filename)\n",
    "        #png_dir = outpath + pid\n",
    "        # if not os.path.exists(png_dir):\n",
    "        #     os.makedirs(png_dir)\n",
    "#\n",
    "txt_color = '#000000'\n",
    "pred_color = '#FFFFFF'\n",
    "gt_color = '#DC143C'\n",
    "\n",
    "for i, slice in enumerate(arr):\n",
    "    plt.figure()\n",
    "    plt.xticks([])\n",
    "    plt.yticks([])\n",
    "    plt.axis('off')\n",
    "    plt.imshow(slice, cmap=\"bone\")\n",
    "    # draw prediction\n",
    "    for axis in pred_list:\n",
    "        start = int(axis[2] - int(axis[3] / 2))\n",
    "        end = int(axis[2] + int(axis[3] / 2))\n",
    "        if start <= i <= end:\n",
    "            # draw box\n",
    "            rect = plt.Rectangle(\n",
    "                (axis[0] - axis[3] / 2, axis[1] - axis[3] / 2),\n",
    "                axis[3], axis[3],\n",
    "                fill=False,\n",
    "                edgecolor=pred_color,\n",
    "                linewidth=2\n",
    "            )\n",
    "            plt.gca().add_patch(rect)\n",
    "            # draw text\n",
    "            plt.text(\n",
    "                axis[0] - axis[3] / 2, axis[1] - axis[3] / 2,\n",
    "                round(data[4], 2),\n",
    "                color=txt_color,\n",
    "                bbox={'edgecolor': pred_color, 'facecolor': pred_color, 'alpha': 0.5, 'pad': 0}\n",
    "            )\n",
    "\n",
    "    # draw ground-truth\n",
    "    for data in gt_list:\n",
    "        start = int(data[2] - int(data[3] / 2))\n",
    "        end = int(data[2] + int(data[3] / 2))\n",
    "        if start <= i <= end:\n",
    "            rect = plt.Rectangle(\n",
    "                (data[0] - data[3] / 2, data[1] - data[3] / 2),\n",
    "                data[3], data[3],\n",
    "                fill=False,\n",
    "                edgecolor=gt_color,\n",
    "                linewidth=2\n",
    "            )\n",
    "            plt.gca().add_patch(rect)\n",
    "\n",
    "    plt.savefig(png_dir + \"/{}.png\".format(i))\n",
    "    plt.close()"
   ]
  }
 ],
 "metadata": {
  "kernelspec": {
   "display_name": "CVDL_HW1",
   "language": "python",
   "name": "python3"
  },
  "language_info": {
   "codemirror_mode": {
    "name": "ipython",
    "version": 3
   },
   "file_extension": ".py",
   "mimetype": "text/x-python",
   "name": "python",
   "nbconvert_exporter": "python",
   "pygments_lexer": "ipython3",
   "version": "3.8.18"
  }
 },
 "nbformat": 4,
 "nbformat_minor": 2
}
