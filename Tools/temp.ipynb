{
 "cells": [
  {
   "cell_type": "code",
   "execution_count": 16,
   "metadata": {},
   "outputs": [
    {
     "name": "stdout",
     "output_type": "stream",
     "text": [
      "0\n",
      "1\n",
      "2\n",
      "3\n",
      "[(1, 10), (2, 20), (3, 30), (4, 40)]\n",
      "Batch 0:\n",
      "data1: tensor([1., 2., 3., 4.])\n",
      "data2: tensor([10., 20., 30., 40.])\n",
      "4\n",
      "5\n",
      "6\n",
      "7\n",
      "[(5, 50), (6, 60), (7, 70), (8, 80)]\n",
      "Batch 1:\n",
      "data1: tensor([5., 6., 7., 8.])\n",
      "data2: tensor([50., 60., 70., 80.])\n",
      "8\n",
      "9\n",
      "[(9, 90), (10, 100)]\n",
      "Batch 2:\n",
      "data1: tensor([ 9., 10.])\n",
      "data2: tensor([ 90., 100.])\n"
     ]
    }
   ],
   "source": [
    "import torch\n",
    "from torch.utils.data import Dataset, DataLoader\n",
    "\n",
    "# 定義一個簡單的數據集\n",
    "class SimpleDataset(Dataset):\n",
    "    def __init__(self):\n",
    "        # 假設數據是一些數字對 [(1, 2), (3, 4), (5, 6), ...]\n",
    "        self.data = [(i, i*10) for i in range(1, 11)]\n",
    "    \n",
    "    def __len__(self):\n",
    "        return len(self.data)\n",
    "    \n",
    "    def __getitem__(self, idx):\n",
    "        print(idx)\n",
    "        return self.data[idx]\n",
    "\n",
    "# 定義自訂的 collate_fn 函數\n",
    "def custom_collate_fn(batch):\n",
    "    # batch 是一個列表，包含多個 __getitem__ 的返回值\n",
    "    # 我們將其拆開為兩個張量列表\n",
    "    print(batch)\n",
    "    data1 = [item[0] for item in batch]\n",
    "    data2 = [item[1] for item in batch]\n",
    "    \n",
    "    # 將列表轉為張量\n",
    "    data1 = torch.tensor(data1, dtype=torch.float32)\n",
    "    data2 = torch.tensor(data2, dtype=torch.float32)\n",
    "    \n",
    "    return data1, data2\n",
    "\n",
    "# 創建數據集和 DataLoader\n",
    "dataset = SimpleDataset()\n",
    "dataloader = DataLoader(dataset, batch_size=4, collate_fn=custom_collate_fn)\n",
    "\n",
    "# 遍歷 DataLoader\n",
    "for batch_idx, (data1, data2) in enumerate(dataloader):\n",
    "    print(f'Batch {batch_idx}:')\n",
    "    print('data1:', data1)\n",
    "    print('data2:', data2)\n"
   ]
  }
 ],
 "metadata": {
  "kernelspec": {
   "display_name": "CVDL_HW1",
   "language": "python",
   "name": "python3"
  },
  "language_info": {
   "codemirror_mode": {
    "name": "ipython",
    "version": 3
   },
   "file_extension": ".py",
   "mimetype": "text/x-python",
   "name": "python",
   "nbconvert_exporter": "python",
   "pygments_lexer": "ipython3",
   "version": "3.8.18"
  }
 },
 "nbformat": 4,
 "nbformat_minor": 2
}
